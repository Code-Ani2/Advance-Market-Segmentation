{
 "cells": [
  {
   "cell_type": "code",
   "execution_count": 5,
   "id": "8bb24c91",
   "metadata": {},
   "outputs": [
    {
     "name": "stdout",
     "output_type": "stream",
     "text": [
      "Customers.csv and Transactions.csv created successfully!\n"
     ]
    }
   ],
   "source": [
    "# To get the desired datasets\n",
    "import pandas as pd\n",
    "import numpy as np\n",
    "\n",
    "# Load CSV files\n",
    "customers_df = pd.read_csv(\"Customers(1).csv\")\n",
    "products_df = pd.read_csv(\"Products.csv\")\n",
    "transactions_df = pd.read_csv(\"Transactions.csv\")\n",
    "\n",
    "# Generate \"Customers.csv\" with an additional \"Age\" column\n",
    "np.random.seed(42)  # For reproducibility\n",
    "customers_df[\"Age\"] = np.random.randint(18, 65, size=len(customers_df))\n",
    "customers_df.to_csv(\"Customers.csv\", index=False)\n",
    "\n",
    "# Generate \"Transactions.csv\" with selected columns from Products and Transactions\n",
    "products_selected = products_df[[\"ProductID\", \"ProductName\", \"Category\"]]\n",
    "transactions_selected = transactions_df[[\"TransactionID\", \"CustomerID\", \"ProductID\", \"Quantity\", \"TotalValue\"]]\n",
    "\n",
    "# Merge transactions with product details\n",
    "transactions_merged = transactions_selected.merge(products_selected, on=\"ProductID\", how=\"left\")\n",
    "transactions_merged.to_csv(\"Transactions_New.csv\", index=False)\n",
    "\n",
    "print(\"Customers.csv and Transactions.csv created successfully!\")\n"
   ]
  },
  {
   "cell_type": "code",
   "execution_count": null,
   "id": "b06ec263",
   "metadata": {},
   "outputs": [],
   "source": []
  }
 ],
 "metadata": {
  "kernelspec": {
   "display_name": "Python 3 (ipykernel)",
   "language": "python",
   "name": "python3"
  },
  "language_info": {
   "codemirror_mode": {
    "name": "ipython",
    "version": 3
   },
   "file_extension": ".py",
   "mimetype": "text/x-python",
   "name": "python",
   "nbconvert_exporter": "python",
   "pygments_lexer": "ipython3",
   "version": "3.9.12"
  }
 },
 "nbformat": 4,
 "nbformat_minor": 5
}
